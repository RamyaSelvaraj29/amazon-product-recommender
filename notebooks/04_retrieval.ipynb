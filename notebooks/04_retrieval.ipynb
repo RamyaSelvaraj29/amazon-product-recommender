{
 "cells": [
  {
   "cell_type": "code",
   "execution_count": null,
   "id": "26489b23-916f-4227-9616-a00aba8f4acc",
   "metadata": {},
   "outputs": [],
   "source": [
    "from pathlib import Path, sys\n",
    "PROJECT_ROOT = Path.cwd().parent; sys.path.append(str(PROJECT_ROOT))\n",
    "\n",
    "from src.embeddings.retrieval import recommend, llm_explain\n",
    "\n",
    "q = \"ANC over-ear headphones under $150 for Zoom calls\"\n",
    "df = recommend(q, price_max=150, category=\"Headphones\", min_rating=3.8, top_k=6)\n",
    "display(df)\n",
    "\n",
    "print(\"\\nSummary:\\n\", llm_explain(q, df))"
   ]
  },
  {
   "cell_type": "code",
   "execution_count": null,
   "id": "3a65dd50-34df-48ae-ba75-fe83fcd792c6",
   "metadata": {},
   "outputs": [],
   "source": [
    "q = \"lightweight gaming laptop for students under $900 with long battery\"\n",
    "df = recommend(q, price_max=900, category=\"Laptops\", min_rating=4.0, top_k=6)\n",
    "display(df)\n",
    "print(\"\\nSummary:\\n\", llm_explain(q, df))\n"
   ]
  }
 ],
 "metadata": {
  "kernelspec": {
   "display_name": "Python (smart-retail)",
   "language": "python",
   "name": "smart-retail"
  },
  "language_info": {
   "codemirror_mode": {
    "name": "ipython",
    "version": 3
   },
   "file_extension": ".py",
   "mimetype": "text/x-python",
   "name": "python",
   "nbconvert_exporter": "python",
   "pygments_lexer": "ipython3",
   "version": "3.11.13"
  }
 },
 "nbformat": 4,
 "nbformat_minor": 5
}
