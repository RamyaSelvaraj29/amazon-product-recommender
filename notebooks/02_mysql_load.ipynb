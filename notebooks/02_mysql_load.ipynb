{
 "cells": [
  {
   "cell_type": "code",
   "execution_count": null,
   "id": "b4103af6-55eb-4c38-8f91-f1a946e0711c",
   "metadata": {},
   "outputs": [],
   "source": [
    "import pandas as pd\n",
    "from sqlalchemy import text\n",
    "from pathlib import Path, sys\n",
    "PROJECT_ROOT = Path.cwd().parent\n",
    "sys.path.append(str(PROJECT_ROOT))\n",
    "\n",
    "from src.db.mysql_loader import get_engine, truncate_and_load, upsert_load\n",
    "eng = get_engine()\n",
    "\n",
    "# quick ping\n",
    "from sqlalchemy import text\n",
    "with eng.connect() as conn:\n",
    "    print(\"Ping:\", conn.execute(text(\"SELECT 1\")).scalar())\n"
   ]
  },
  {
   "cell_type": "code",
   "execution_count": null,
   "id": "1382fe43-e96f-4568-afa0-668bbe9c1fab",
   "metadata": {},
   "outputs": [],
   "source": [
    "# safe re-run without deleting table rows\n",
    "upsert_load(eng)"
   ]
  },
  {
   "cell_type": "code",
   "execution_count": null,
   "id": "883cc2f6-411f-4629-a82e-70d8d9810dc6",
   "metadata": {},
   "outputs": [],
   "source": [
    "with eng.connect() as conn:\n",
    "    total = conn.execute(text(\"SELECT COUNT(*) FROM products;\")).scalar()\n",
    "    print(\"Row count:\", total)\n",
    "\n",
    "    cat = pd.read_sql(\n",
    "        text(\"SELECT filtered_category, COUNT(*) AS n FROM products GROUP BY 1 ORDER BY n DESC;\"),\n",
    "        conn\n",
    "    )\n",
    "    display(cat)\n",
    "\n",
    "    sample = pd.read_sql(\n",
    "        text(\"SELECT asin, title, brand, price, average_rating FROM products LIMIT 5;\"),\n",
    "        conn\n",
    "    )\n",
    "    display(sample)\n"
   ]
  }
 ],
 "metadata": {
  "kernelspec": {
   "display_name": "Python (smart-retail)",
   "language": "python",
   "name": "smart-retail"
  },
  "language_info": {
   "codemirror_mode": {
    "name": "ipython",
    "version": 3
   },
   "file_extension": ".py",
   "mimetype": "text/x-python",
   "name": "python",
   "nbconvert_exporter": "python",
   "pygments_lexer": "ipython3",
   "version": "3.11.13"
  }
 },
 "nbformat": 4,
 "nbformat_minor": 5
}
