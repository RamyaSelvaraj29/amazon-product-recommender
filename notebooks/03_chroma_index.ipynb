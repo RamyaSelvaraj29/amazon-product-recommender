{
 "cells": [
  {
   "cell_type": "code",
   "execution_count": null,
   "metadata": {},
   "outputs": [],
   "source": [
    "from pathlib import Path, sys\n",
    "PROJECT_ROOT = Path.cwd().parent\n",
    "sys.path.append(str(PROJECT_ROOT))\n",
    "\n",
    "from src.embeddings.chroma_indexer import index_all_products, get_collection, semantic_search\n",
    "\n",
    "# Run the full index build/update (you can tweak batch sizes here if needed)\n",
    "indexed, skipped, final_count = index_all_products(\n",
    "    sql_page=1000,          # rows from MySQL per page\n",
    "    embed_batch_size=200,   # texts per OpenAI call\n",
    "    get_page_size=5000,     # paging size when enumerating existing ids\n",
    "    sleep_between_chunks=0.2\n",
    ")\n",
    "\n",
    "print(indexed, skipped, final_count)\n"
   ]
  },
  {
   "cell_type": "code",
   "execution_count": null,
   "metadata": {},
   "outputs": [],
   "source": [
    "for q in [\n",
    "    \"ANC over-ear headphones under $150 for Zoom calls\",\n",
    "    \"lightweight gaming laptop for students under $900 with long battery\"\n",
    "]:\n",
    "    print(\"\\nQuery:\", q)\n",
    "    for i, r in enumerate(semantic_search(q, k=5), start=1):\n",
    "        print(f\"{i}. {r['title']} | {r['brand']} | ${r['price']} | {r['avg_rating']}⭐ | {r['category']}  (ASIN {r['asin']}, dist {r['distance']:.4f})\")\n"
   ]
  }
 ],
 "metadata": {
  "kernelspec": {
   "display_name": "Python (smart-retail)",
   "language": "python",
   "name": "smart-retail"
  },
  "language_info": {
   "codemirror_mode": {
    "name": "ipython",
    "version": 3
   },
   "file_extension": ".py",
   "mimetype": "text/x-python",
   "name": "python",
   "nbconvert_exporter": "python",
   "pygments_lexer": "ipython3",
   "version": "3.11.13"
  }
 },
 "nbformat": 4,
 "nbformat_minor": 4
}
